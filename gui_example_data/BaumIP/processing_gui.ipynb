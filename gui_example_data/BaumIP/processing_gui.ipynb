{
 "cells": [
  {
   "cell_type": "markdown",
   "id": "a52e6119-e120-4dba-bdb9-1a3dc6172ae2",
   "metadata": {},
   "source": [
    "# TODO\n",
    "\n",
    "* [ ] Polish Data Filtering-Tab\n",
    "* [ ] Investigate how to integrate a report-generator\n",
    "* Persistence:\n",
    "  * [ ] fe_mesh   \n",
    "* [ ] Integrate help/manual pages (generate using pandoc?)\n",
    "* [ ] Check that widgets are updated with data loaded from persistent storage\n",
    "* [ ] How to branch off new inversion-prep-branches (for different inversion settings?)"
   ]
  },
  {
   "cell_type": "code",
   "execution_count": 1,
   "id": "b7521f0d-6e0d-4273-8dec-046c10143ce1",
   "metadata": {},
   "outputs": [
    {
     "data": {
      "application/vnd.jupyter.widget-view+json": {
       "model_id": "3899bf09d6d84a658df157a873914d2c",
       "version_major": 2,
       "version_minor": 0
      },
      "text/plain": [
       "VBox(children=(HBox(children=(Label(value='CR Workflow V1'), Output())), GridBox(children=(Tab(children=(VBox(…"
      ]
     },
     "metadata": {},
     "output_type": "display_data"
    }
   ],
   "source": [
    "from crtomo.notebook.nb import processing_workflow_v1\n",
    "wflow = processing_workflow_v1(persistent_directory='persistent_data')\n",
    "wflow.show_gui()"
   ]
  },
  {
   "cell_type": "code",
   "execution_count": null,
   "id": "3bfc9477-f1d1-4d01-9b34-dd6ebb592e77",
   "metadata": {},
   "outputs": [],
   "source": []
  }
 ],
 "metadata": {
  "kernelspec": {
   "display_name": "Python 3 (ipykernel)",
   "language": "python",
   "name": "python3"
  },
  "language_info": {
   "codemirror_mode": {
    "name": "ipython",
    "version": 3
   },
   "file_extension": ".py",
   "mimetype": "text/x-python",
   "name": "python",
   "nbconvert_exporter": "python",
   "pygments_lexer": "ipython3",
   "version": "3.11.2"
  }
 },
 "nbformat": 4,
 "nbformat_minor": 5
}
