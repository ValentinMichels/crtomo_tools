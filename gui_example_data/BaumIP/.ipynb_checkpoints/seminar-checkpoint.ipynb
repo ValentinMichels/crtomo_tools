{
 "cells": [
  {
   "cell_type": "code",
   "execution_count": null,
   "id": "4d3edd6b-2c44-4905-8c7e-e91aa1600cd7",
   "metadata": {},
   "outputs": [],
   "source": [
    "from crtomo.notebook.nb import processing_workflow_v1\n",
    "wflow = processing_workflow_v1(persistent_directory='persistent_data')\n",
    "wflow.show_gui()"
   ]
  }
 ],
 "metadata": {
  "kernelspec": {
   "display_name": "Python 3 (ipykernel)",
   "language": "python",
   "name": "python3"
  },
  "language_info": {
   "codemirror_mode": {
    "name": "ipython",
    "version": 3
   },
   "file_extension": ".py",
   "mimetype": "text/x-python",
   "name": "python",
   "nbconvert_exporter": "python",
   "pygments_lexer": "ipython3",
   "version": "3.11.2"
  }
 },
 "nbformat": 4,
 "nbformat_minor": 5
}
