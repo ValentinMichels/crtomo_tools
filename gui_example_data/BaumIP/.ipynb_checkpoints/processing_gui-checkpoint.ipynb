{
 "cells": [
  {
   "cell_type": "markdown",
   "id": "a52e6119-e120-4dba-bdb9-1a3dc6172ae2",
   "metadata": {},
   "source": [
    "# TODO\n",
    "* Persistence:\n",
    "  * [ ] fe_mesh   \n",
    "* [ ] Integrate help/manual pages (generate using pandoc?)\n",
    "* [ ] Check that widgets are updated with data loaded from persistent storage\n",
    "* [ ] Investigate how to integrate a report-generator\n",
    "* [ ] How to branch off new inversion-prep-branches (for different inversion settings?)\n",
    "* [ ] Layout of FE-Mesh needs to be adapted: The image should not change the other widget locations"
   ]
  },
  {
   "cell_type": "code",
   "execution_count": 1,
   "id": "b7521f0d-6e0d-4273-8dec-046c10143ce1",
   "metadata": {},
   "outputs": [
    {
     "name": "stdout",
     "output_type": "stream",
     "text": [
      "CR Workflow V1\n"
     ]
    },
    {
     "data": {
      "application/vnd.jupyter.widget-view+json": {
       "model_id": "0cdc22363c9c49bb84fc1325ebc369f9",
       "version_major": 2,
       "version_minor": 0
      },
      "text/plain": [
       "GridBox(children=(Tab(children=(GridspecLayout(children=(Label(value='This tab allows you to load, or generate…"
      ]
     },
     "metadata": {},
     "output_type": "display_data"
    }
   ],
   "source": [
    "from crtomo.notebook.nb import processing_workflow_v1\n",
    "wflow = processing_workflow_v1(persistent_directory='persistent_data')\n",
    "wflow.show_gui()"
   ]
  },
  {
   "cell_type": "code",
   "execution_count": 2,
   "id": "a32146fd-cf15-45a1-a4af-9bb35ed4ed59",
   "metadata": {},
   "outputs": [
    {
     "data": {
      "text/plain": [
       "{}"
      ]
     },
     "execution_count": 2,
     "metadata": {},
     "output_type": "execute_result"
    }
   ],
   "source": [
    "wflow.step_fe_mesh.results"
   ]
  }
 ],
 "metadata": {
  "kernelspec": {
   "display_name": "Python 3 (ipykernel)",
   "language": "python",
   "name": "python3"
  },
  "language_info": {
   "codemirror_mode": {
    "name": "ipython",
    "version": 3
   },
   "file_extension": ".py",
   "mimetype": "text/x-python",
   "name": "python",
   "nbconvert_exporter": "python",
   "pygments_lexer": "ipython3",
   "version": "3.11.2"
  }
 },
 "nbformat": 4,
 "nbformat_minor": 5
}
